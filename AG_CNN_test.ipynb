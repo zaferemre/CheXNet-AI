{
 "cells": [
  {
   "cell_type": "code",
   "execution_count": 1,
   "metadata": {},
   "outputs": [
    {
     "name": "stderr",
     "output_type": "stream",
     "text": [
      "C:\\Users\\zafer\\AppData\\Local\\Packages\\PythonSoftwareFoundation.Python.3.11_qbz5n2kfra8p0\\LocalCache\\local-packages\\Python311\\site-packages\\torchvision\\models\\_utils.py:208: UserWarning: The parameter 'pretrained' is deprecated since 0.13 and may be removed in the future, please use 'weights' instead.\n",
      "  warnings.warn(\n",
      "C:\\Users\\zafer\\AppData\\Local\\Packages\\PythonSoftwareFoundation.Python.3.11_qbz5n2kfra8p0\\LocalCache\\local-packages\\Python311\\site-packages\\torchvision\\models\\_utils.py:223: UserWarning: Arguments other than a weight enum or `None` for 'weights' are deprecated since 0.13 and may be removed in the future. The current behavior is equivalent to passing `weights=None`.\n",
      "  warnings.warn(msg)\n",
      "C:\\Users\\zafer\\AppData\\Local\\Temp\\ipykernel_16480\\1103524381.py:69: FutureWarning: You are using `torch.load` with `weights_only=False` (the current default value), which uses the default pickle module implicitly. It is possible to construct malicious pickle data which will execute arbitrary code during unpickling (See https://github.com/pytorch/pytorch/blob/main/SECURITY.md#untrusted-models for more details). In a future release, the default value for `weights_only` will be flipped to `True`. This limits the functions that could be executed during unpickling. Arbitrary objects will no longer be allowed to be loaded via this mode unless they are explicitly allowlisted by the user via `torch.serialization.add_safe_globals`. We recommend you start setting `weights_only=True` for any use case where you don't have full control of the loaded file. Please open an issue on GitHub for any issues related to this experimental feature.\n",
      "  checkpoint = torch.load(CKPT_PATH, map_location=\"cuda:0\")\n"
     ]
    },
    {
     "name": "stdout",
     "output_type": "stream",
     "text": [
      "=> Loading checkpoint\n",
      "=> Checkpoint loaded\n"
     ]
    },
    {
     "name": "stderr",
     "output_type": "stream",
     "text": [
      "Evaluating: 100%|██████████| 63/63 [00:36<00:00,  1.73it/s]"
     ]
    },
    {
     "name": "stdout",
     "output_type": "stream",
     "text": [
      "The average AUROC is 0.557\n",
      "The AUROC of Emphysema is 0.451\n",
      "The AUROC of Cardiomegaly is 0.507\n",
      "The AUROC of Edema is 0.656\n",
      "The AUROC of Effusion is 0.623\n",
      "The AUROC of Atelectasis is 0.547\n"
     ]
    },
    {
     "name": "stderr",
     "output_type": "stream",
     "text": [
      "\n"
     ]
    }
   ],
   "source": [
    "# encoding: utf-8\n",
    "\n",
    "\"\"\"\n",
    "Fixed Evaluation Code for CheXNet\n",
    "\"\"\"\n",
    "\n",
    "import os\n",
    "import numpy as np\n",
    "import torch\n",
    "import torch.nn as nn\n",
    "import torch.backends.cudnn as cudnn\n",
    "import torchvision.transforms as transforms\n",
    "from torch.utils.data import DataLoader\n",
    "from torchvision.models import densenet121\n",
    "from sklearn.metrics import roc_auc_score\n",
    "from read_data import ChestXrayDataSet\n",
    "from tqdm import tqdm  # For progress tracking\n",
    "\n",
    "# Constants\n",
    "CKPT_PATH = 'best_model/5finding_trained_densenet121.pth.tar'  # Path to the trained model\n",
    "N_CLASSES = 5\n",
    "#CLASS_NAMES = [\n",
    "#    'Atelectasis', 'Cardiomegaly', 'Effusion', 'Infiltration', 'Mass',\n",
    "#    'Nodule', 'Pneumonia', 'Pneumothorax', 'Consolidation', 'Edema',\n",
    "#    'Emphysema', 'Fibrosis', 'Pleural_Thickening', 'Hernia'\n",
    "#]\n",
    "CLASS_NAMES = [\"Emphysema\", \"Cardiomegaly\", \"Edema\", \"Effusion\", \"Atelectasis\"]\n",
    "\n",
    "DATA_DIR = r\"C:/Users/zafer/OneDrive/Masaüstü/224NIH/dataset/images-224/images-224\"\n",
    "TEST_IMAGE_LIST = 'labels/test_list_balanced.txt'\n",
    "BATCH_SIZE = 16\n",
    "\n",
    "\n",
    "def tensor_transform(crops):\n",
    "    return torch.stack([transforms.ToTensor()(crop) for crop in crops])\n",
    "\n",
    "\n",
    "def normalize_transform(crops):\n",
    "    return torch.stack([transforms.Normalize([0.485, 0.456, 0.406], [0.229, 0.224, 0.225])(crop) for crop in crops])\n",
    "\n",
    "\n",
    "def create_transforms():\n",
    "    \"\"\"Create transformations for preprocessing.\"\"\"\n",
    "    return transforms.Compose([\n",
    "        transforms.Resize(256),\n",
    "        transforms.TenCrop(224),\n",
    "        transforms.Lambda(tensor_transform),\n",
    "        transforms.Lambda(normalize_transform)\n",
    "    ])\n",
    "\n",
    "\n",
    "class DenseNet121(nn.Module):\n",
    "    \"\"\"DenseNet121 model for multi-label classification.\"\"\"\n",
    "    def __init__(self, out_size):\n",
    "        super(DenseNet121, self).__init__()\n",
    "        self.densenet121 = densenet121(pretrained=False)\n",
    "        num_ftrs = self.densenet121.classifier.in_features\n",
    "        self.densenet121.classifier = nn.Linear(num_ftrs, out_size)\n",
    "\n",
    "    def forward(self, x):\n",
    "        return self.densenet121(x)  # Raw logits output\n",
    "\n",
    "\n",
    "def load_model():\n",
    "    \"\"\"Initialize and load the trained DenseNet121 model.\"\"\"\n",
    "    model = DenseNet121(N_CLASSES)\n",
    "    if os.path.isfile(CKPT_PATH):\n",
    "        print(\"=> Loading checkpoint\")\n",
    "        checkpoint = torch.load(CKPT_PATH, map_location=\"cuda:0\")\n",
    "\n",
    "        if 'state_dict' in checkpoint:\n",
    "            state_dict = checkpoint['state_dict']\n",
    "            # Remove 'module.' prefix if saved with DataParallel\n",
    "            state_dict = {k.replace('module.', '')\n",
    "                          .replace(\"norm.1\",\"norm1\")\n",
    "                          .replace(\"conv.1\",\"conv1\")\n",
    "                          .replace(\"norm.2\",\"norm2\")\n",
    "                          .replace(\"conv.2\",\"conv2\")\n",
    "                          .replace(\"classifier.0\",\"classifier\"): v for k, v in state_dict.items()}\n",
    "            model.load_state_dict(state_dict)\n",
    "        else:\n",
    "            model.load_state_dict(checkpoint)\n",
    "\n",
    "        print(\"=> Checkpoint loaded\")\n",
    "    else:\n",
    "        print(\"=> No checkpoint found at the specified path\")\n",
    "\n",
    "    return model\n",
    "\n",
    "\n",
    "def evaluate_model(model, test_loader):\n",
    "    \"\"\"Evaluate the model and compute AUROC.\"\"\"\n",
    "    model.eval()  # Set the model to evaluation mode\n",
    "    gt, pred = [], []\n",
    "\n",
    "    with torch.no_grad():\n",
    "        for inp, target in tqdm(test_loader, desc=\"Evaluating\", leave=True):\n",
    "            target = target.cuda()\n",
    "            bs, n_crops, c, h, w = inp.size()\n",
    "            inp = inp.view(-1, c, h, w).cuda()\n",
    "\n",
    "            # Get raw logits and apply sigmoid\n",
    "            logits = model(inp)\n",
    "            output_mean = torch.sigmoid(logits.view(bs, n_crops, -1).mean(1))\n",
    "\n",
    "            gt.append(target.cpu())\n",
    "            pred.append(output_mean.cpu())\n",
    "\n",
    "    gt = torch.cat(gt)\n",
    "    pred = torch.cat(pred)\n",
    "    return compute_AUCs(gt, pred)\n",
    "\n",
    "\n",
    "def compute_AUCs(gt, pred):\n",
    "    \"\"\"Compute Area Under the Curve (AUC) for all classes.\"\"\"\n",
    "    gt_np = gt.numpy()\n",
    "    pred_np = pred.numpy()\n",
    "    AUROCs = [roc_auc_score(gt_np[:, i], pred_np[:, i]) for i in range(N_CLASSES)]\n",
    "    return AUROCs\n",
    "\n",
    "\n",
    "def main():\n",
    "    cudnn.benchmark = True  # Enable optimized GPU performance\n",
    "\n",
    "    # Load model\n",
    "    model = load_model()\n",
    "    model = model.cuda()\n",
    "\n",
    "    # Prepare data\n",
    "    transform = create_transforms()\n",
    "    test_dataset = ChestXrayDataSet(data_dir=DATA_DIR, image_list_file=TEST_IMAGE_LIST, transform=transform)\n",
    "    test_loader = DataLoader(test_dataset, batch_size=BATCH_SIZE, shuffle=False, num_workers=0, pin_memory=True)\n",
    "\n",
    "    # Evaluate\n",
    "    AUROCs = evaluate_model(model, test_loader)\n",
    "    AUROC_avg = np.mean(AUROCs)\n",
    "\n",
    "    print(f'The average AUROC is {AUROC_avg:.3f}')\n",
    "    for i, auroc in enumerate(AUROCs):\n",
    "        print(f'The AUROC of {CLASS_NAMES[i]} is {auroc:.3f}')\n",
    "\n",
    "\n",
    "if __name__ == '__main__':\n",
    "    main()\n"
   ]
  },
  {
   "cell_type": "markdown",
   "metadata": {},
   "source": [
    "**Step 1: Define a Function for Confusion Matrices**"
   ]
  },
  {
   "cell_type": "code",
   "execution_count": 2,
   "metadata": {},
   "outputs": [],
   "source": [
    "from sklearn.metrics import confusion_matrix\n",
    "import matplotlib.pyplot as plt\n",
    "import seaborn as sns\n",
    "\n",
    "def compute_confusion_matrices(gt, pred, threshold=0.5):\n",
    "    \"\"\"Compute confusion matrices for each class.\"\"\"\n",
    "    gt_np = gt.numpy()\n",
    "    pred_np = (pred.numpy() > threshold).astype(int)  # Apply threshold to predictions\n",
    "\n",
    "    confusion_matrices = []\n",
    "    for i in range(N_CLASSES):\n",
    "        cm = confusion_matrix(gt_np[:, i], pred_np[:, i])\n",
    "        confusion_matrices.append(cm)\n",
    "\n",
    "    return confusion_matrices\n"
   ]
  },
  {
   "cell_type": "markdown",
   "metadata": {},
   "source": [
    "**Step 2: Visualize Confusion Matrices**"
   ]
  },
  {
   "cell_type": "code",
   "execution_count": 3,
   "metadata": {},
   "outputs": [],
   "source": [
    "def plot_confusion_matrix(cm, class_name):\n",
    "    \"\"\"Plot confusion matrix.\"\"\"\n",
    "    plt.figure(figsize=(5, 5))\n",
    "    sns.heatmap(cm, annot=True, fmt='d', cmap='Blues', xticklabels=['Negative', 'Positive'], yticklabels=['Negative', 'Positive'])\n",
    "    plt.title(f'Confusion Matrix for {class_name}')\n",
    "    plt.xlabel('Predicted')\n",
    "    plt.ylabel('Actual')\n",
    "    plt.show()\n"
   ]
  },
  {
   "cell_type": "code",
   "execution_count": 13,
   "metadata": {},
   "outputs": [
    {
     "name": "stderr",
     "output_type": "stream",
     "text": [
      "C:\\Users\\zafer\\AppData\\Local\\Packages\\PythonSoftwareFoundation.Python.3.11_qbz5n2kfra8p0\\LocalCache\\local-packages\\Python311\\site-packages\\torchvision\\models\\_utils.py:208: UserWarning: The parameter 'pretrained' is deprecated since 0.13 and may be removed in the future, please use 'weights' instead.\n",
      "  warnings.warn(\n",
      "C:\\Users\\zafer\\AppData\\Local\\Packages\\PythonSoftwareFoundation.Python.3.11_qbz5n2kfra8p0\\LocalCache\\local-packages\\Python311\\site-packages\\torchvision\\models\\_utils.py:223: UserWarning: Arguments other than a weight enum or `None` for 'weights' are deprecated since 0.13 and may be removed in the future. The current behavior is equivalent to passing `weights=None`.\n",
      "  warnings.warn(msg)\n",
      "C:\\Users\\zafer\\AppData\\Local\\Temp\\ipykernel_16480\\1103524381.py:69: FutureWarning: You are using `torch.load` with `weights_only=False` (the current default value), which uses the default pickle module implicitly. It is possible to construct malicious pickle data which will execute arbitrary code during unpickling (See https://github.com/pytorch/pytorch/blob/main/SECURITY.md#untrusted-models for more details). In a future release, the default value for `weights_only` will be flipped to `True`. This limits the functions that could be executed during unpickling. Arbitrary objects will no longer be allowed to be loaded via this mode unless they are explicitly allowlisted by the user via `torch.serialization.add_safe_globals`. We recommend you start setting `weights_only=True` for any use case where you don't have full control of the loaded file. Please open an issue on GitHub for any issues related to this experimental feature.\n",
      "  checkpoint = torch.load(CKPT_PATH, map_location=\"cuda:0\")\n"
     ]
    },
    {
     "name": "stdout",
     "output_type": "stream",
     "text": [
      "=> Loading checkpoint\n",
      "=> Checkpoint loaded\n"
     ]
    },
    {
     "name": "stderr",
     "output_type": "stream",
     "text": [
      "Evaluating: 100%|██████████| 63/63 [00:29<00:00,  2.17it/s]"
     ]
    },
    {
     "name": "stdout",
     "output_type": "stream",
     "text": [
      "Confusion Matrix for Emphysema:\n",
      "[[956   0]\n",
      " [ 44   0]]\n",
      "\n",
      "Confusion Matrix for Cardiomegaly:\n",
      "[[942   0]\n",
      " [ 58   0]]\n",
      "\n",
      "Confusion Matrix for Edema:\n",
      "[[968   0]\n",
      " [ 32   0]]\n",
      "\n",
      "Confusion Matrix for Effusion:\n",
      "[[737   2]\n",
      " [261   0]]\n",
      "\n",
      "Confusion Matrix for Atelectasis:\n",
      "[[761   0]\n",
      " [239   0]]\n",
      "\n"
     ]
    },
    {
     "name": "stderr",
     "output_type": "stream",
     "text": [
      "\n"
     ]
    }
   ],
   "source": [
    "# Load model\n",
    "model = load_model()\n",
    "model = model.cuda()\n",
    "\n",
    "# Prepare data\n",
    "transform = create_transforms()\n",
    "test_dataset = ChestXrayDataSet(data_dir=DATA_DIR, image_list_file=TEST_IMAGE_LIST, transform=transform)\n",
    "test_loader = DataLoader(test_dataset, batch_size=BATCH_SIZE, shuffle=False, num_workers=0, pin_memory=True)\n",
    "\n",
    "# Evaluate to get gt and pred\n",
    "gt, pred = [], []\n",
    "model.eval()\n",
    "with torch.no_grad():\n",
    "    for inp, target in tqdm(test_loader, desc=\"Evaluating\", leave=True):\n",
    "        target = target.cuda()\n",
    "        bs, n_crops, c, h, w = inp.size()\n",
    "        inp = inp.view(-1, c, h, w).cuda()\n",
    "        logits = model(inp)\n",
    "        output_mean = torch.sigmoid(logits.view(bs, n_crops, -1).mean(1))\n",
    "        gt.append(target.cpu())\n",
    "        pred.append(output_mean.cpu())\n",
    "gt = torch.cat(gt)\n",
    "pred = torch.cat(pred)\n",
    "\n",
    "# Compute confusion matrices\n",
    "# Compute confusion matrices\n",
    "confusion_matrices = compute_confusion_matrices(gt, pred)\n",
    "\n",
    "# Print confusion matrices\n",
    "for i, cm in enumerate(confusion_matrices):\n",
    "    print(f'Confusion Matrix for {CLASS_NAMES[i]}:\\n{cm}\\n')\n",
    "\n"
   ]
  },
  {
   "cell_type": "markdown",
   "metadata": {},
   "source": [
    "**1. Precision, Recall, and F1 Score**"
   ]
  },
  {
   "cell_type": "code",
   "execution_count": 16,
   "metadata": {},
   "outputs": [],
   "source": [
    "from sklearn.metrics import precision_score, recall_score, f1_score\n",
    "\n",
    "def compute_precision_recall_f1(gt, pred, threshold=0.5):\n",
    "    \"\"\"\n",
    "    Compute precision, recall, and F1 score for each class.\n",
    "    \n",
    "    Parameters:\n",
    "    - gt: Tensor of ground truth labels (shape: [num_samples, num_classes]).\n",
    "    - pred: Tensor of predicted probabilities (shape: [num_samples, num_classes]).\n",
    "    - threshold: Threshold for converting probabilities to binary predictions.\n",
    "    \n",
    "    Returns:\n",
    "    - precisions: List of precision scores for each class.\n",
    "    - recalls: List of recall scores for each class.\n",
    "    - f1_scores: List of F1 scores for each class.\n",
    "    \"\"\"\n",
    "    # Convert tensors to numpy arrays\n",
    "    gt_np = gt.cpu().numpy()\n",
    "    pred_np = (pred.cpu().numpy() > threshold).astype(int)  # Apply threshold to predictions\n",
    "\n",
    "    # Initialize lists to store metrics\n",
    "    precisions = []\n",
    "    recalls = []\n",
    "    f1_scores = []\n",
    "\n",
    "    # Loop over each class and calculate metrics\n",
    "    num_classes = gt_np.shape[1]\n",
    "    for i in range(num_classes):\n",
    "        precisions.append(precision_score(gt_np[:, i], pred_np[:, i], zero_division=0))\n",
    "        recalls.append(recall_score(gt_np[:, i], pred_np[:, i], zero_division=0))\n",
    "        f1_scores.append(f1_score(gt_np[:, i], pred_np[:, i], zero_division=0))\n",
    "\n",
    "    return precisions, recalls, f1_scores\n"
   ]
  },
  {
   "cell_type": "markdown",
   "metadata": {},
   "source": [
    "**2. Class-Wise Analysis**"
   ]
  },
  {
   "cell_type": "code",
   "execution_count": 22,
   "metadata": {},
   "outputs": [
    {
     "name": "stdout",
     "output_type": "stream",
     "text": [
      "Emphysema: Precision=0.0000, Recall=0.0000, F1-Score=0.0000\n",
      "Cardiomegaly: Precision=0.0000, Recall=0.0000, F1-Score=0.0000\n",
      "Edema: Precision=0.0000, Recall=0.0000, F1-Score=0.0000\n",
      "Effusion: Precision=0.3391, Recall=0.6054, F1-Score=0.4347\n",
      "Atelectasis: Precision=0.2500, Recall=0.4854, F1-Score=0.3300\n"
     ]
    }
   ],
   "source": [
    "# Assuming gt and pred are tensors of shape [num_samples, num_classes]\n",
    "precisions, recalls, f1_scores = compute_precision_recall_f1(gt, pred, threshold=0.3)\n",
    "\n",
    "# Print the metrics\n",
    "for i, class_name in enumerate(CLASS_NAMES):\n",
    "    print(f\"{class_name}: Precision={precisions[i]:.4f}, Recall={recalls[i]:.4f}, F1-Score={f1_scores[i]:.4f}\")\n"
   ]
  },
  {
   "cell_type": "code",
   "execution_count": 23,
   "metadata": {},
   "outputs": [
    {
     "data": {
      "image/png": "[encoded data removed]",
      "text/plain": [
       "<Figure size 600x600 with 1 Axes>"
      ]
     },
     "metadata": {},
     "output_type": "display_data"
    }
   ],
   "source": [
    "from sklearn.metrics import precision_recall_curve\n",
    "import matplotlib.pyplot as plt\n",
    "\n",
    "def plot_pr_curve(gt, pred, class_name):\n",
    "    \"\"\"Plot the Precision-Recall curve for a specific class.\"\"\"\n",
    "    precision, recall, _ = precision_recall_curve(gt.numpy(), pred.numpy())\n",
    "    plt.figure(figsize=(6, 6))\n",
    "    plt.plot(recall, precision, marker='.')\n",
    "    plt.title(f'Precision-Recall Curve for {class_name}')\n",
    "    plt.xlabel('Recall')\n",
    "    plt.ylabel('Precision')\n",
    "    plt.grid(True)\n",
    "    plt.show()\n",
    "\n",
    "# Plot PR curve for a specific class, e.g., Cardiomegaly (index 1)\n",
    "plot_pr_curve(gt[:, 1], pred[:, 1], \"Cardiomegaly\")\n"
   ]
  },
  {
   "cell_type": "markdown",
   "metadata": {},
   "source": [
    "***4. Threshold Optimization***"
   ]
  },
  {
   "cell_type": "code",
   "execution_count": 24,
   "metadata": {},
   "outputs": [
    {
     "name": "stdout",
     "output_type": "stream",
     "text": [
      "\n",
      "Optimal Thresholds:\n",
      "Emphysema: 0.00\n",
      "Cardiomegaly: 0.04\n",
      "Edema: 0.10\n",
      "Effusion: 0.26\n",
      "Atelectasis: 0.24\n"
     ]
    }
   ],
   "source": [
    "from sklearn.metrics import accuracy_score\n",
    "\n",
    "def optimize_thresholds(gt, pred):\n",
    "    \"\"\"Find the optimal threshold for each class.\"\"\"\n",
    "    gt_np = gt.numpy()\n",
    "    pred_np = pred.numpy()\n",
    "    optimal_thresholds = []\n",
    "\n",
    "    for i in range(N_CLASSES):\n",
    "        best_threshold = 0.5\n",
    "        best_f1 = 0\n",
    "        for t in np.arange(0.0, 1.01, 0.01):\n",
    "            pred_class = (pred_np[:, i] > t).astype(int)\n",
    "            f1 = f1_score(gt_np[:, i], pred_class, zero_division=0)\n",
    "            if f1 > best_f1:\n",
    "                best_f1 = f1\n",
    "                best_threshold = t\n",
    "        optimal_thresholds.append(best_threshold)\n",
    "\n",
    "    return optimal_thresholds\n",
    "\n",
    "# Find and print optimal thresholds\n",
    "optimal_thresholds = optimize_thresholds(gt, pred)\n",
    "print(\"\\nOptimal Thresholds:\")\n",
    "for i, class_name in enumerate(CLASS_NAMES):\n",
    "    print(f\"{class_name}: {optimal_thresholds[i]:.2f}\")\n"
   ]
  },
  {
   "cell_type": "code",
   "execution_count": 9,
   "metadata": {},
   "outputs": [],
   "source": [
    "def analyze_errors(gt, pred, threshold=0.5):\n",
    "    \"\"\"Analyze false positives and false negatives for each class.\"\"\"\n",
    "    gt_np = gt.numpy()\n",
    "    pred_np = (pred.numpy() > threshold).astype(int)\n",
    "\n",
    "    for i, class_name in enumerate(CLASS_NAMES):\n",
    "        false_positives = np.sum((pred_np[:, i] == 1) & (gt_np[:, i] == 0))\n",
    "        false_negatives = np.sum((pred_np[:, i] == 0) & (gt_np[:, i] == 1))\n",
    "        print(f\"{class_name}: False Positives = {false_positives}, False Negatives = {false_negatives}\")\n"
   ]
  },
  {
   "cell_type": "code",
   "execution_count": 10,
   "metadata": {},
   "outputs": [
    {
     "ename": "IndexError",
     "evalue": "index 6 is out of bounds for dimension 1 with size 5",
     "output_type": "error",
     "traceback": [
      "\u001b[1;31m---------------------------------------------------------------------------\u001b[0m",
      "\u001b[1;31mIndexError\u001b[0m                                Traceback (most recent call last)",
      "Cell \u001b[1;32mIn[10], line 16\u001b[0m\n\u001b[0;32m     13\u001b[0m     plt\u001b[38;5;241m.\u001b[39mshow()\n\u001b[0;32m     15\u001b[0m \u001b[38;5;66;03m# Plot calibration curve for a specific class, e.g., Pneumonia (index 6)\u001b[39;00m\n\u001b[1;32m---> 16\u001b[0m plot_calibration_curve(\u001b[43mgt\u001b[49m\u001b[43m[\u001b[49m\u001b[43m:\u001b[49m\u001b[43m,\u001b[49m\u001b[43m \u001b[49m\u001b[38;5;241;43m6\u001b[39;49m\u001b[43m]\u001b[49m, pred[:, \u001b[38;5;241m6\u001b[39m], \u001b[38;5;124m\"\u001b[39m\u001b[38;5;124mPneumonia\u001b[39m\u001b[38;5;124m\"\u001b[39m)\n",
      "\u001b[1;31mIndexError\u001b[0m: index 6 is out of bounds for dimension 1 with size 5"
     ]
    }
   ],
   "source": [
    "from sklearn.calibration import calibration_curve\n",
    "\n",
    "def plot_calibration_curve(gt, pred, class_name):\n",
    "    \"\"\"Plot the calibration curve for a specific class.\"\"\"\n",
    "    prob_true, prob_pred = calibration_curve(gt.numpy(), pred.numpy(), n_bins=10)\n",
    "    plt.figure(figsize=(6, 6))\n",
    "    plt.plot(prob_pred, prob_true, marker='.')\n",
    "    plt.plot([0, 1], [0, 1], 'k--', linewidth=1)  # Diagonal reference line\n",
    "    plt.title(f'Calibration Curve for {class_name}')\n",
    "    plt.xlabel('Mean Predicted Probability')\n",
    "    plt.ylabel('Fraction of Positives')\n",
    "    plt.grid(True)\n",
    "    plt.show()\n",
    "\n",
    "# Plot calibration curve for a specific class, e.g., Pneumonia (index 6)\n",
    "plot_calibration_curve(gt[:, 6], pred[:, 6], \"Pneumonia\")\n"
   ]
  },
  {
   "cell_type": "markdown",
   "metadata": {},
   "source": [
    "**Modify the Model for Grad-CAM**"
   ]
  },
  {
   "cell_type": "code",
   "execution_count": 13,
   "metadata": {},
   "outputs": [],
   "source": [
    "class DenseNet121(nn.Module):\n",
    "    \"\"\"DenseNet121 model for multi-label classification.\"\"\"\n",
    "    def __init__(self, out_size):\n",
    "        super(DenseNet121, self).__init__()\n",
    "        self.densenet121 = densenet121(pretrained=False)\n",
    "        num_ftrs = self.densenet121.classifier.in_features\n",
    "        self.densenet121.classifier = nn.Linear(num_ftrs, out_size)\n",
    "        self.features = self.densenet121.features  # Access the convolutional features\n",
    "        self.classifier = self.densenet121.classifier\n",
    "\n",
    "    def forward(self, x):\n",
    "        features = self.features(x)\n",
    "        out = nn.ReLU(inplace=True)(features)  # Activation\n",
    "        out = nn.AdaptiveAvgPool2d((1, 1))(out).view(features.size(0), -1)  # Global Pooling\n",
    "        out = self.classifier(out)\n",
    "        return out, features  # Return features for Grad-CAM\n"
   ]
  },
  {
   "cell_type": "code",
   "execution_count": 14,
   "metadata": {},
   "outputs": [],
   "source": [
    "import torch.nn.functional as F\n",
    "\n",
    "class GradCAM:\n",
    "    def __init__(self, model, target_layer):\n",
    "        self.model = model\n",
    "        self.target_layer = target_layer\n",
    "        self.gradients = None\n",
    "        self.activations = None\n",
    "\n",
    "        # Hook the gradients and activations\n",
    "        self.target_layer.register_forward_hook(self._save_activations)\n",
    "        self.target_layer.register_backward_hook(self._save_gradients)\n",
    "\n",
    "    def _save_activations(self, module, input, output):\n",
    "        self.activations = output\n",
    "\n",
    "    def _save_gradients(self, module, grad_input, grad_output):\n",
    "        self.gradients = grad_output[0]\n",
    "\n",
    "    def generate_heatmap(self, class_idx):\n",
    "        \"\"\"Generate Grad-CAM heatmap for the target class index.\"\"\"\n",
    "        weights = self.gradients.mean(dim=(2, 3), keepdim=True)  # Global average of gradients\n",
    "        heatmap = torch.sum(weights * self.activations, dim=1).squeeze(0)\n",
    "        heatmap = F.relu(heatmap)\n",
    "        heatmap /= torch.max(heatmap)  # Normalize to [0, 1]\n",
    "        return heatmap.cpu().detach().numpy()\n"
   ]
  },
  {
   "cell_type": "code",
   "execution_count": 15,
   "metadata": {},
   "outputs": [],
   "source": [
    "import cv2\n",
    "import numpy as np\n",
    "import matplotlib.pyplot as plt\n",
    "\n",
    "def overlay_heatmap(image, heatmap, alpha=0.5, colormap=cv2.COLORMAP_JET):\n",
    "    \"\"\"Overlay the heatmap on the original image.\"\"\"\n",
    "    heatmap = cv2.applyColorMap((heatmap * 255).astype(np.uint8), colormap)\n",
    "    overlay = cv2.addWeighted(heatmap, alpha, image, 1 - alpha, 0)\n",
    "    return overlay\n",
    "\n",
    "def preprocess_image(image_path):\n",
    "    \"\"\"Preprocess an image for the model.\"\"\"\n",
    "    transform = transforms.Compose([\n",
    "        transforms.Resize((224, 224)),\n",
    "        transforms.ToTensor(),\n",
    "        transforms.Normalize([0.485, 0.456, 0.406], [0.229, 0.224, 0.225])\n",
    "    ])\n",
    "    image = cv2.imread(image_path)\n",
    "    image = cv2.cvtColor(image, cv2.COLOR_BGR2RGB)\n",
    "    input_tensor = transform(image).unsqueeze(0)  # Add batch dimension\n",
    "    return image, input_tensor\n"
   ]
  },
  {
   "cell_type": "code",
   "execution_count": 17,
   "metadata": {},
   "outputs": [],
   "source": [
    "def gradcam_example_random(model, dataset, class_idx):\n",
    "    # Pick a random image with the specified class\n",
    "    raw_image, target = pick_random_image_with_class(dataset, class_idx)\n",
    "    print(f\"Randomly selected image has target labels: {target}\")\n",
    "\n",
    "    # Preprocess the image for the model\n",
    "    transform = create_transforms()  # Assuming you have the same transform function\n",
    "    input_tensor = transform(raw_image.unsqueeze(0))  # Add batch dimension\n",
    "\n",
    "    # Run the model and compute gradients\n",
    "    model.eval()\n",
    "    input_tensor = input_tensor.cuda()\n",
    "    model = model.cuda()\n",
    "    output, features = model(input_tensor)\n",
    "    loss = output[0, class_idx]\n",
    "    model.zero_grad()\n",
    "    loss.backward()\n",
    "\n",
    "    # Generate Grad-CAM heatmap\n",
    "    grad_cam = GradCAM(model, model.features[-1])\n",
    "    heatmap = grad_cam.generate_heatmap(class_idx)\n",
    "\n",
    "    # Overlay heatmap on the image\n",
    "    heatmap_resized = cv2.resize(heatmap, (raw_image.size(1), raw_image.size(2)))\n",
    "    heatmap_overlay = overlay_heatmap(np.array(raw_image.permute(1, 2, 0).cpu() * 255, dtype=np.uint8), heatmap_resized)\n",
    "\n",
    "    # Display the result\n",
    "    plt.figure(figsize=(10, 5))\n",
    "    plt.subplot(1, 2, 1)\n",
    "    plt.imshow(raw_image.permute(1, 2, 0).cpu())\n",
    "    plt.title(\"Original Image\")\n",
    "    plt.axis(\"off\")\n",
    "    plt.subplot(1, 2, 2)\n",
    "    plt.imshow(heatmap_overlay)\n",
    "    plt.title(\"Grad-CAM Heatmap\")\n",
    "    plt.axis(\"off\")\n",
    "    plt.show()\n"
   ]
  },
  {
   "cell_type": "code",
   "execution_count": 18,
   "metadata": {},
   "outputs": [],
   "source": [
    "import random\n",
    "\n",
    "def pick_random_image_with_class(dataset, class_idx):\n",
    "    \"\"\"Pick a random image from the dataset with the specified class.\"\"\"\n",
    "    indices = []\n",
    "    for i in range(len(dataset)):\n",
    "        _, target = dataset[i]\n",
    "        if target[class_idx] == 1:  # Check if the class is positive\n",
    "            indices.append(i)\n",
    "\n",
    "    if len(indices) == 0:\n",
    "        raise ValueError(f\"No images found with class index {class_idx} as positive.\")\n",
    "\n",
    "    selected_idx = random.choice(indices)\n",
    "    image, target = dataset[selected_idx]\n",
    "    return image, target\n"
   ]
  },
  {
   "cell_type": "code",
   "execution_count": 19,
   "metadata": {},
   "outputs": [
    {
     "name": "stdout",
     "output_type": "stream",
     "text": [
      "Randomly selected image has target labels: tensor([1., 1., 1., 0., 0., 0., 0., 0., 0., 0., 0., 0., 0., 0.])\n"
     ]
    },
    {
     "ename": "ValueError",
     "evalue": "Input and output must have the same number of spatial dimensions, but got input with spatial dimensions of [3, 224, 224] and output size of [256, 256]. Please provide input tensor in (N, C, d1, d2, ...,dK) format and output size in (o1, o2, ...,oK) format.",
     "output_type": "error",
     "traceback": [
      "\u001b[1;31m---------------------------------------------------------------------------\u001b[0m",
      "\u001b[1;31mValueError\u001b[0m                                Traceback (most recent call last)",
      "Cell \u001b[1;32mIn[19], line 7\u001b[0m\n\u001b[0;32m      5\u001b[0m \u001b[38;5;66;03m# Use the function with a random Cardiomegaly image\u001b[39;00m\n\u001b[0;32m      6\u001b[0m class_idx \u001b[38;5;241m=\u001b[39m \u001b[38;5;241m1\u001b[39m  \u001b[38;5;66;03m# Cardiomegaly index\u001b[39;00m\n\u001b[1;32m----> 7\u001b[0m \u001b[43mgradcam_example_random\u001b[49m\u001b[43m(\u001b[49m\u001b[43mmodel\u001b[49m\u001b[43m,\u001b[49m\u001b[43m \u001b[49m\u001b[43mtest_dataset\u001b[49m\u001b[43m,\u001b[49m\u001b[43m \u001b[49m\u001b[43mclass_idx\u001b[49m\u001b[43m)\u001b[49m\n",
      "Cell \u001b[1;32mIn[17], line 8\u001b[0m, in \u001b[0;36mgradcam_example_random\u001b[1;34m(model, dataset, class_idx)\u001b[0m\n\u001b[0;32m      6\u001b[0m \u001b[38;5;66;03m# Preprocess the image for the model\u001b[39;00m\n\u001b[0;32m      7\u001b[0m transform \u001b[38;5;241m=\u001b[39m create_transforms()  \u001b[38;5;66;03m# Assuming you have the same transform function\u001b[39;00m\n\u001b[1;32m----> 8\u001b[0m input_tensor \u001b[38;5;241m=\u001b[39m \u001b[43mtransform\u001b[49m\u001b[43m(\u001b[49m\u001b[43mraw_image\u001b[49m\u001b[38;5;241;43m.\u001b[39;49m\u001b[43munsqueeze\u001b[49m\u001b[43m(\u001b[49m\u001b[38;5;241;43m0\u001b[39;49m\u001b[43m)\u001b[49m\u001b[43m)\u001b[49m  \u001b[38;5;66;03m# Add batch dimension\u001b[39;00m\n\u001b[0;32m     10\u001b[0m \u001b[38;5;66;03m# Run the model and compute gradients\u001b[39;00m\n\u001b[0;32m     11\u001b[0m model\u001b[38;5;241m.\u001b[39meval()\n",
      "File \u001b[1;32m~\\AppData\\Local\\Packages\\PythonSoftwareFoundation.Python.3.11_qbz5n2kfra8p0\\LocalCache\\local-packages\\Python311\\site-packages\\torchvision\\transforms\\transforms.py:95\u001b[0m, in \u001b[0;36mCompose.__call__\u001b[1;34m(self, img)\u001b[0m\n\u001b[0;32m     93\u001b[0m \u001b[38;5;28;01mdef\u001b[39;00m \u001b[38;5;21m__call__\u001b[39m(\u001b[38;5;28mself\u001b[39m, img):\n\u001b[0;32m     94\u001b[0m     \u001b[38;5;28;01mfor\u001b[39;00m t \u001b[38;5;129;01min\u001b[39;00m \u001b[38;5;28mself\u001b[39m\u001b[38;5;241m.\u001b[39mtransforms:\n\u001b[1;32m---> 95\u001b[0m         img \u001b[38;5;241m=\u001b[39m \u001b[43mt\u001b[49m\u001b[43m(\u001b[49m\u001b[43mimg\u001b[49m\u001b[43m)\u001b[49m\n\u001b[0;32m     96\u001b[0m     \u001b[38;5;28;01mreturn\u001b[39;00m img\n",
      "File \u001b[1;32m~\\AppData\\Local\\Packages\\PythonSoftwareFoundation.Python.3.11_qbz5n2kfra8p0\\LocalCache\\local-packages\\Python311\\site-packages\\torch\\nn\\modules\\module.py:1736\u001b[0m, in \u001b[0;36mModule._wrapped_call_impl\u001b[1;34m(self, *args, **kwargs)\u001b[0m\n\u001b[0;32m   1734\u001b[0m     \u001b[38;5;28;01mreturn\u001b[39;00m \u001b[38;5;28mself\u001b[39m\u001b[38;5;241m.\u001b[39m_compiled_call_impl(\u001b[38;5;241m*\u001b[39margs, \u001b[38;5;241m*\u001b[39m\u001b[38;5;241m*\u001b[39mkwargs)  \u001b[38;5;66;03m# type: ignore[misc]\u001b[39;00m\n\u001b[0;32m   1735\u001b[0m \u001b[38;5;28;01melse\u001b[39;00m:\n\u001b[1;32m-> 1736\u001b[0m     \u001b[38;5;28;01mreturn\u001b[39;00m \u001b[38;5;28;43mself\u001b[39;49m\u001b[38;5;241;43m.\u001b[39;49m\u001b[43m_call_impl\u001b[49m\u001b[43m(\u001b[49m\u001b[38;5;241;43m*\u001b[39;49m\u001b[43margs\u001b[49m\u001b[43m,\u001b[49m\u001b[43m \u001b[49m\u001b[38;5;241;43m*\u001b[39;49m\u001b[38;5;241;43m*\u001b[39;49m\u001b[43mkwargs\u001b[49m\u001b[43m)\u001b[49m\n",
      "File \u001b[1;32m~\\AppData\\Local\\Packages\\PythonSoftwareFoundation.Python.3.11_qbz5n2kfra8p0\\LocalCache\\local-packages\\Python311\\site-packages\\torch\\nn\\modules\\module.py:1747\u001b[0m, in \u001b[0;36mModule._call_impl\u001b[1;34m(self, *args, **kwargs)\u001b[0m\n\u001b[0;32m   1742\u001b[0m \u001b[38;5;66;03m# If we don't have any hooks, we want to skip the rest of the logic in\u001b[39;00m\n\u001b[0;32m   1743\u001b[0m \u001b[38;5;66;03m# this function, and just call forward.\u001b[39;00m\n\u001b[0;32m   1744\u001b[0m \u001b[38;5;28;01mif\u001b[39;00m \u001b[38;5;129;01mnot\u001b[39;00m (\u001b[38;5;28mself\u001b[39m\u001b[38;5;241m.\u001b[39m_backward_hooks \u001b[38;5;129;01mor\u001b[39;00m \u001b[38;5;28mself\u001b[39m\u001b[38;5;241m.\u001b[39m_backward_pre_hooks \u001b[38;5;129;01mor\u001b[39;00m \u001b[38;5;28mself\u001b[39m\u001b[38;5;241m.\u001b[39m_forward_hooks \u001b[38;5;129;01mor\u001b[39;00m \u001b[38;5;28mself\u001b[39m\u001b[38;5;241m.\u001b[39m_forward_pre_hooks\n\u001b[0;32m   1745\u001b[0m         \u001b[38;5;129;01mor\u001b[39;00m _global_backward_pre_hooks \u001b[38;5;129;01mor\u001b[39;00m _global_backward_hooks\n\u001b[0;32m   1746\u001b[0m         \u001b[38;5;129;01mor\u001b[39;00m _global_forward_hooks \u001b[38;5;129;01mor\u001b[39;00m _global_forward_pre_hooks):\n\u001b[1;32m-> 1747\u001b[0m     \u001b[38;5;28;01mreturn\u001b[39;00m \u001b[43mforward_call\u001b[49m\u001b[43m(\u001b[49m\u001b[38;5;241;43m*\u001b[39;49m\u001b[43margs\u001b[49m\u001b[43m,\u001b[49m\u001b[43m \u001b[49m\u001b[38;5;241;43m*\u001b[39;49m\u001b[38;5;241;43m*\u001b[39;49m\u001b[43mkwargs\u001b[49m\u001b[43m)\u001b[49m\n\u001b[0;32m   1749\u001b[0m result \u001b[38;5;241m=\u001b[39m \u001b[38;5;28;01mNone\u001b[39;00m\n\u001b[0;32m   1750\u001b[0m called_always_called_hooks \u001b[38;5;241m=\u001b[39m \u001b[38;5;28mset\u001b[39m()\n",
      "File \u001b[1;32m~\\AppData\\Local\\Packages\\PythonSoftwareFoundation.Python.3.11_qbz5n2kfra8p0\\LocalCache\\local-packages\\Python311\\site-packages\\torchvision\\transforms\\transforms.py:354\u001b[0m, in \u001b[0;36mResize.forward\u001b[1;34m(self, img)\u001b[0m\n\u001b[0;32m    346\u001b[0m \u001b[38;5;28;01mdef\u001b[39;00m \u001b[38;5;21mforward\u001b[39m(\u001b[38;5;28mself\u001b[39m, img):\n\u001b[0;32m    347\u001b[0m \u001b[38;5;250m    \u001b[39m\u001b[38;5;124;03m\"\"\"\u001b[39;00m\n\u001b[0;32m    348\u001b[0m \u001b[38;5;124;03m    Args:\u001b[39;00m\n\u001b[0;32m    349\u001b[0m \u001b[38;5;124;03m        img (PIL Image or Tensor): Image to be scaled.\u001b[39;00m\n\u001b[1;32m   (...)\u001b[0m\n\u001b[0;32m    352\u001b[0m \u001b[38;5;124;03m        PIL Image or Tensor: Rescaled image.\u001b[39;00m\n\u001b[0;32m    353\u001b[0m \u001b[38;5;124;03m    \"\"\"\u001b[39;00m\n\u001b[1;32m--> 354\u001b[0m     \u001b[38;5;28;01mreturn\u001b[39;00m \u001b[43mF\u001b[49m\u001b[38;5;241;43m.\u001b[39;49m\u001b[43mresize\u001b[49m\u001b[43m(\u001b[49m\u001b[43mimg\u001b[49m\u001b[43m,\u001b[49m\u001b[43m \u001b[49m\u001b[38;5;28;43mself\u001b[39;49m\u001b[38;5;241;43m.\u001b[39;49m\u001b[43msize\u001b[49m\u001b[43m,\u001b[49m\u001b[43m \u001b[49m\u001b[38;5;28;43mself\u001b[39;49m\u001b[38;5;241;43m.\u001b[39;49m\u001b[43minterpolation\u001b[49m\u001b[43m,\u001b[49m\u001b[43m \u001b[49m\u001b[38;5;28;43mself\u001b[39;49m\u001b[38;5;241;43m.\u001b[39;49m\u001b[43mmax_size\u001b[49m\u001b[43m,\u001b[49m\u001b[43m \u001b[49m\u001b[38;5;28;43mself\u001b[39;49m\u001b[38;5;241;43m.\u001b[39;49m\u001b[43mantialias\u001b[49m\u001b[43m)\u001b[49m\n",
      "File \u001b[1;32m~\\AppData\\Local\\Packages\\PythonSoftwareFoundation.Python.3.11_qbz5n2kfra8p0\\LocalCache\\local-packages\\Python311\\site-packages\\torchvision\\transforms\\functional.py:479\u001b[0m, in \u001b[0;36mresize\u001b[1;34m(img, size, interpolation, max_size, antialias)\u001b[0m\n\u001b[0;32m    476\u001b[0m     pil_interpolation \u001b[38;5;241m=\u001b[39m pil_modes_mapping[interpolation]\n\u001b[0;32m    477\u001b[0m     \u001b[38;5;28;01mreturn\u001b[39;00m F_pil\u001b[38;5;241m.\u001b[39mresize(img, size\u001b[38;5;241m=\u001b[39moutput_size, interpolation\u001b[38;5;241m=\u001b[39mpil_interpolation)\n\u001b[1;32m--> 479\u001b[0m \u001b[38;5;28;01mreturn\u001b[39;00m \u001b[43mF_t\u001b[49m\u001b[38;5;241;43m.\u001b[39;49m\u001b[43mresize\u001b[49m\u001b[43m(\u001b[49m\u001b[43mimg\u001b[49m\u001b[43m,\u001b[49m\u001b[43m \u001b[49m\u001b[43msize\u001b[49m\u001b[38;5;241;43m=\u001b[39;49m\u001b[43moutput_size\u001b[49m\u001b[43m,\u001b[49m\u001b[43m \u001b[49m\u001b[43minterpolation\u001b[49m\u001b[38;5;241;43m=\u001b[39;49m\u001b[43minterpolation\u001b[49m\u001b[38;5;241;43m.\u001b[39;49m\u001b[43mvalue\u001b[49m\u001b[43m,\u001b[49m\u001b[43m \u001b[49m\u001b[43mantialias\u001b[49m\u001b[38;5;241;43m=\u001b[39;49m\u001b[43mantialias\u001b[49m\u001b[43m)\u001b[49m\n",
      "File \u001b[1;32m~\\AppData\\Local\\Packages\\PythonSoftwareFoundation.Python.3.11_qbz5n2kfra8p0\\LocalCache\\local-packages\\Python311\\site-packages\\torchvision\\transforms\\_functional_tensor.py:467\u001b[0m, in \u001b[0;36mresize\u001b[1;34m(img, size, interpolation, antialias)\u001b[0m\n\u001b[0;32m    464\u001b[0m \u001b[38;5;66;03m# Define align_corners to avoid warnings\u001b[39;00m\n\u001b[0;32m    465\u001b[0m align_corners \u001b[38;5;241m=\u001b[39m \u001b[38;5;28;01mFalse\u001b[39;00m \u001b[38;5;28;01mif\u001b[39;00m interpolation \u001b[38;5;129;01min\u001b[39;00m [\u001b[38;5;124m\"\u001b[39m\u001b[38;5;124mbilinear\u001b[39m\u001b[38;5;124m\"\u001b[39m, \u001b[38;5;124m\"\u001b[39m\u001b[38;5;124mbicubic\u001b[39m\u001b[38;5;124m\"\u001b[39m] \u001b[38;5;28;01melse\u001b[39;00m \u001b[38;5;28;01mNone\u001b[39;00m\n\u001b[1;32m--> 467\u001b[0m img \u001b[38;5;241m=\u001b[39m \u001b[43minterpolate\u001b[49m\u001b[43m(\u001b[49m\u001b[43mimg\u001b[49m\u001b[43m,\u001b[49m\u001b[43m \u001b[49m\u001b[43msize\u001b[49m\u001b[38;5;241;43m=\u001b[39;49m\u001b[43msize\u001b[49m\u001b[43m,\u001b[49m\u001b[43m \u001b[49m\u001b[43mmode\u001b[49m\u001b[38;5;241;43m=\u001b[39;49m\u001b[43minterpolation\u001b[49m\u001b[43m,\u001b[49m\u001b[43m \u001b[49m\u001b[43malign_corners\u001b[49m\u001b[38;5;241;43m=\u001b[39;49m\u001b[43malign_corners\u001b[49m\u001b[43m,\u001b[49m\u001b[43m \u001b[49m\u001b[43mantialias\u001b[49m\u001b[38;5;241;43m=\u001b[39;49m\u001b[43mantialias\u001b[49m\u001b[43m)\u001b[49m\n\u001b[0;32m    469\u001b[0m \u001b[38;5;28;01mif\u001b[39;00m interpolation \u001b[38;5;241m==\u001b[39m \u001b[38;5;124m\"\u001b[39m\u001b[38;5;124mbicubic\u001b[39m\u001b[38;5;124m\"\u001b[39m \u001b[38;5;129;01mand\u001b[39;00m out_dtype \u001b[38;5;241m==\u001b[39m torch\u001b[38;5;241m.\u001b[39muint8:\n\u001b[0;32m    470\u001b[0m     img \u001b[38;5;241m=\u001b[39m img\u001b[38;5;241m.\u001b[39mclamp(\u001b[38;5;28mmin\u001b[39m\u001b[38;5;241m=\u001b[39m\u001b[38;5;241m0\u001b[39m, \u001b[38;5;28mmax\u001b[39m\u001b[38;5;241m=\u001b[39m\u001b[38;5;241m255\u001b[39m)\n",
      "File \u001b[1;32m~\\AppData\\Local\\Packages\\PythonSoftwareFoundation.Python.3.11_qbz5n2kfra8p0\\LocalCache\\local-packages\\Python311\\site-packages\\torch\\nn\\functional.py:4453\u001b[0m, in \u001b[0;36minterpolate\u001b[1;34m(input, size, scale_factor, mode, align_corners, recompute_scale_factor, antialias)\u001b[0m\n\u001b[0;32m   4451\u001b[0m \u001b[38;5;28;01mif\u001b[39;00m \u001b[38;5;28misinstance\u001b[39m(size, (\u001b[38;5;28mlist\u001b[39m, \u001b[38;5;28mtuple\u001b[39m)):\n\u001b[0;32m   4452\u001b[0m     \u001b[38;5;28;01mif\u001b[39;00m \u001b[38;5;28mlen\u001b[39m(size) \u001b[38;5;241m!=\u001b[39m dim:\n\u001b[1;32m-> 4453\u001b[0m         \u001b[38;5;28;01mraise\u001b[39;00m \u001b[38;5;167;01mValueError\u001b[39;00m(\n\u001b[0;32m   4454\u001b[0m             \u001b[38;5;124m\"\u001b[39m\u001b[38;5;124mInput and output must have the same number of spatial dimensions, but got \u001b[39m\u001b[38;5;124m\"\u001b[39m\n\u001b[0;32m   4455\u001b[0m             \u001b[38;5;124mf\u001b[39m\u001b[38;5;124m\"\u001b[39m\u001b[38;5;124minput with spatial dimensions of \u001b[39m\u001b[38;5;132;01m{\u001b[39;00m\u001b[38;5;28mlist\u001b[39m(\u001b[38;5;28minput\u001b[39m\u001b[38;5;241m.\u001b[39mshape[\u001b[38;5;241m2\u001b[39m:])\u001b[38;5;132;01m}\u001b[39;00m\u001b[38;5;124m and output size of \u001b[39m\u001b[38;5;132;01m{\u001b[39;00msize\u001b[38;5;132;01m}\u001b[39;00m\u001b[38;5;124m. \u001b[39m\u001b[38;5;124m\"\u001b[39m\n\u001b[0;32m   4456\u001b[0m             \u001b[38;5;124m\"\u001b[39m\u001b[38;5;124mPlease provide input tensor in (N, C, d1, d2, ...,dK) format and \u001b[39m\u001b[38;5;124m\"\u001b[39m\n\u001b[0;32m   4457\u001b[0m             \u001b[38;5;124m\"\u001b[39m\u001b[38;5;124moutput size in (o1, o2, ...,oK) format.\u001b[39m\u001b[38;5;124m\"\u001b[39m\n\u001b[0;32m   4458\u001b[0m         )\n\u001b[0;32m   4459\u001b[0m     \u001b[38;5;28;01mif\u001b[39;00m \u001b[38;5;129;01mnot\u001b[39;00m torch\u001b[38;5;241m.\u001b[39mjit\u001b[38;5;241m.\u001b[39mis_scripting():\n\u001b[0;32m   4460\u001b[0m         \u001b[38;5;28;01mif\u001b[39;00m \u001b[38;5;129;01mnot\u001b[39;00m \u001b[38;5;28mall\u001b[39m(_is_integer(x) \u001b[38;5;28;01mfor\u001b[39;00m x \u001b[38;5;129;01min\u001b[39;00m size):\n",
      "\u001b[1;31mValueError\u001b[0m: Input and output must have the same number of spatial dimensions, but got input with spatial dimensions of [3, 224, 224] and output size of [256, 256]. Please provide input tensor in (N, C, d1, d2, ...,dK) format and output size in (o1, o2, ...,oK) format."
     ]
    }
   ],
   "source": [
    "# Assuming you have defined the `ChestXrayDataSet` class\n",
    "transform = create_transforms()\n",
    "test_dataset = ChestXrayDataSet(data_dir=DATA_DIR, image_list_file=TEST_IMAGE_LIST, transform=transform)\n",
    "\n",
    "# Use the function with a random Cardiomegaly image\n",
    "class_idx = 1  # Cardiomegaly index\n",
    "gradcam_example_random(model, test_dataset, class_idx)\n"
   ]
  }
 ],
 "metadata": {
  "kernelspec": {
   "display_name": "Python 3",
   "language": "python",
   "name": "python3"
  },
  "language_info": {
   "codemirror_mode": {
    "name": "ipython",
    "version": 3
   },
   "file_extension": ".py",
   "mimetype": "text/x-python",
   "name": "python",
   "nbconvert_exporter": "python",
   "pygments_lexer": "ipython3",
   "version": "3.11.9"
  }
 },
 "nbformat": 4,
 "nbformat_minor": 2
}
